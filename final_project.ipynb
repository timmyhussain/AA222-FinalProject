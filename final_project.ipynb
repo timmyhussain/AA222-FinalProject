{
 "cells": [
  {
   "cell_type": "code",
   "execution_count": 1,
   "metadata": {},
   "outputs": [],
   "source": [
    "import numpy as np\n",
    "import cvxpy as cp\n",
    "import matplotlib.pyplot as plt\n",
    "from matplotlib import animation, rc\n",
    "from IPython.display import HTML"
   ]
  },
  {
   "cell_type": "markdown",
   "metadata": {},
   "source": [
    "### General Variable names:\n",
    "- d: drone object\n",
    "- dp: droneport object\n",
    "- fm: fleetmanager object\n",
    "- sim: simulation object"
   ]
  },
  {
   "cell_type": "markdown",
   "metadata": {},
   "source": [
    "### Useful functions"
   ]
  },
  {
   "cell_type": "code",
   "execution_count": 2,
   "metadata": {},
   "outputs": [],
   "source": [
    "def get_distance(point_A, point_B):\n",
    "    return np.linalg.norm(np.array(point_A)-np.array(point_B))\n",
    "\n",
    "def optimize_drone_choice(cost, power):\n",
    "    n = len(cost)\n",
    "    x = cp.Variable((n, 1), nonneg=True)\n",
    "\n",
    "    obj = cp.Minimize(cost@x)\n",
    "    constr = []\n",
    "    constr.append((power - cost)@x >= 0)\n",
    "    constr.append(cp.sum(x) == 1)\n",
    "    prob = cp.Problem(obj, constr)\n",
    "    res = prob.solve()\n",
    "    \n",
    "    return np.argmax(x.value), res"
   ]
  },
  {
   "cell_type": "markdown",
   "metadata": {},
   "source": [
    "### Customer Class"
   ]
  },
  {
   "cell_type": "code",
   "execution_count": 3,
   "metadata": {},
   "outputs": [],
   "source": [
    "class Customer:\n",
    "    def __init__(self, x, y, name):\n",
    "        '''\n",
    "        Inputs\n",
    "            name: String\n",
    "            x: x-coordinate of home\n",
    "            y: y-coordinate of home\n",
    "        '''\n",
    "        self.name = name\n",
    "        self.x = x\n",
    "        self.y = y\n",
    "    \n",
    "    def get_location(self):\n",
    "        return (self.x, self.y)\n",
    "    \n",
    "    def check_valid(self, bounds):\n",
    "        pass\n",
    "    \n",
    "    def create_order(self):\n",
    "        pass\n",
    "    \n",
    "    def get_current_order(self):\n",
    "        pass\n",
    "\n",
    "    def __repr__(self):\n",
    "        return repr(\"Customer \" + self.name + \". x: \" + str(self.x) + \" y: \" + str(self.y))    "
   ]
  },
  {
   "cell_type": "markdown",
   "metadata": {},
   "source": [
    "### Retailer Class"
   ]
  },
  {
   "cell_type": "code",
   "execution_count": 4,
   "metadata": {},
   "outputs": [],
   "source": [
    "class Retailer:\n",
    "    def __init__(self, x, y, name):\n",
    "        self.x = x\n",
    "        self.y = y\n",
    "        self.name = name\n",
    "        \n",
    "    def __repr__(self):\n",
    "        return repr(\"Retailer \" + self.name + \". x: \" + str(self.x) + \" y: \" + str(self.y))    \n",
    "        \n",
    "    def get_location(self):\n",
    "        return (self.x, self.y)"
   ]
  },
  {
   "cell_type": "markdown",
   "metadata": {},
   "source": [
    "### DronePort Class"
   ]
  },
  {
   "cell_type": "code",
   "execution_count": 5,
   "metadata": {},
   "outputs": [],
   "source": [
    "class DronePort:\n",
    "    def __init__(self, x, y, capacity=5):\n",
    "        self.x = x\n",
    "        self.y = y\n",
    "        self.capacity = capacity\n",
    "        self.fleet = []\n",
    "\n",
    "    def __repr__(self):\n",
    "        return repr(\"Drone Port. x: \" + str(self.x) + \" y: \" + str(self.y))\n",
    "    \n",
    "    def get_location(self):\n",
    "        return (self.x, self.y)\n",
    "    \n",
    "    def get_discharge_rates(self):\n",
    "        return [d.discharge_rate for d in self.fleet]\n",
    "    \n",
    "    def get_power(self):\n",
    "        return [d.get_power() for d in self.fleet]\n",
    "    \n",
    "    def create_fleet(self, drone_list):\n",
    "        for d in drone_list:\n",
    "            self.add_to_fleet(d)\n",
    "            \n",
    "    def add_to_fleet(self, drone):\n",
    "        self.fleet.append(drone)\n",
    "        \n",
    "    def charge_fleet(self):\n",
    "        for d in self.fleet:\n",
    "            d.charge_power()\n",
    "        pass\n",
    "    \n",
    "    def update_fleet(self, drone_list):\n",
    "        if len(drone_list) != 0:\n",
    "            self.fleet = drone_list\n",
    "    "
   ]
  },
  {
   "cell_type": "markdown",
   "metadata": {},
   "source": [
    "### Order Class - Important\n",
    "\n",
    "#### Inputs:\n",
    "- Customer object\n",
    "- Retailer object\n",
    "- Time (integer) e.g 0 representing what step in the simulation order is placed\n",
    "\n",
    "#### Initialization\n",
    "order = Order(customer, retailer, time)"
   ]
  },
  {
   "cell_type": "code",
   "execution_count": 6,
   "metadata": {},
   "outputs": [],
   "source": [
    "class Order:\n",
    "    def __init__(self, customer, retailer, time):\n",
    "        self.customer = customer\n",
    "        self.retailer = retailer\n",
    "        self.status = \"Open\"\n",
    "        self.time = time\n",
    "        \n",
    "    def update_status(self):\n",
    "        pass\n",
    "    \n",
    "    def __repr__(self):\n",
    "        repre = \"Customer: \" + self.customer.name + \". Retailer: \" + self.retailer.name + \". Time: \" + str(self.time)\n",
    "        return repr(repre)"
   ]
  },
  {
   "cell_type": "markdown",
   "metadata": {},
   "source": [
    "### Drone Class - Important\n",
    "\n",
    "#### Inputs:\n",
    "- x: initial x-coordinate \n",
    "- y: initial y-coordinate\n",
    "- max_capacity: ignore\n",
    "- max_power: max power (100 can traverse mostly anywhere, 50 runs into power constraints)\n",
    "- starting_power: <= max power, can test response in power-constrained scenario\n",
    "- charge_rate: currently 3 (so takes 33+1 steps to charge from 0 to 100)\n",
    "- discharge_rate: currently 3 (so can take 16 steps on 50 max/starting power and 33 steps on 100 max/starting power)\n",
    "- name: some letter of the alphabet, if you print a drone object, it shows the name\n",
    "\n",
    "access any parameter of the object with \n",
    "- d.{parameter} e.g \n",
    " - d.power\n",
    "\n",
    "although some special getter functions exist e.g\n",
    "- d.get_location()\n",
    "\n",
    "#### Traversing distances\n",
    "Each timestep, the drone traverses the shortest path between its current point and target point by taking a unit step in that direction. If closer to target than 1 unit step, it takes the remainder but still consumes one discharge_rate unit of power.\n",
    "\n",
    "- step = min(remainder_distance, 1)"
   ]
  },
  {
   "cell_type": "code",
   "execution_count": 7,
   "metadata": {},
   "outputs": [],
   "source": [
    "class Drone:\n",
    "    def __init__(self, x, y, max_capacity, max_power, starting_power, charge_rate, discharge_rate, name):\n",
    "        self.x = x\n",
    "        self.y = y\n",
    "        self.max_capacity = max_capacity\n",
    "        self.max_power = max_power\n",
    "        self.power = starting_power\n",
    "        self.charge_rate = charge_rate\n",
    "        self.discharge_rate = discharge_rate\n",
    "        self.name = name\n",
    "        self.status = \"Disengaged\"\n",
    "        self.order = None\n",
    "        self.waypoint_list = []\n",
    "        pass\n",
    "    \n",
    "    def __repr__(self):\n",
    "        return repr(\"Drone \" + self.name)\n",
    "    \n",
    "    def consume_power(self):\n",
    "        self.power = max(self.power - self.discharge_rate, 0)\n",
    "    \n",
    "    def charge_power(self):\n",
    "        self.power = min(self.power + self.charge_rate, self.max_power)\n",
    "    \n",
    "    def get_capacity():\n",
    "        return self.capacity\n",
    "    \n",
    "    def get_location(self):\n",
    "        return (self.x, self.y)\n",
    "    \n",
    "    def set_location(self, x, y):\n",
    "        self.x = x\n",
    "        self.y = y\n",
    "        \n",
    "    def get_power(self):\n",
    "        return self.power\n",
    "        pass\n",
    "    \n",
    "    def assign_order(self, order):\n",
    "        self.order = order\n",
    "        self.update_waypoint_list(self.order.retailer.get_location())\n",
    "        self.update_waypoint_list(self.order.customer.get_location())\n",
    "        self.status = \"Engaged\"\n",
    "\n",
    "    def switch_locations(self, waypoint):\n",
    "        self.update_waypoint_list(waypoint)\n",
    "        self.status = \"Switching\"\n",
    "        \n",
    "    def get_status(self):\n",
    "        return self.status\n",
    "    \n",
    "    def set_status(self, status):\n",
    "        self.status = status\n",
    "    \n",
    "    def get_order(self):\n",
    "        return self.order\n",
    "    \n",
    "    def take_step(self):\n",
    "        if self.status == \"Disengaged\":\n",
    "            self.waypoint_list = []\n",
    "            return\n",
    "        \n",
    "        if self.waypoint_list:\n",
    "            self.set_current_target()\n",
    "            self.update_current_target()\n",
    "        current = np.array(self.get_location())\n",
    "        target = np.array(self.get_current_target())\n",
    "        normed_dist = np.linalg.norm(target - current)\n",
    "        if normed_dist > 1:\n",
    "            current = current + (target - current)/np.linalg.norm(target-current)\n",
    "        else:\n",
    "            current = current + (target - current)\n",
    "            \n",
    "        self.set_location(current[0], current[1])\n",
    "        \n",
    "        if normed_dist != 0:\n",
    "            self.consume_power()            \n",
    "            \n",
    "    def update_waypoint_list(self, waypoint):\n",
    "        self.waypoint_list.append(waypoint)\n",
    "    \n",
    "    def update_current_target(self):\n",
    "        if self.get_location() == self.get_current_target():\n",
    "            self.waypoint_list.pop(0)\n",
    "              \n",
    "    def set_current_target(self):\n",
    "        self.target_x, self.target_y = self.waypoint_list[0]\n",
    "        \n",
    "    def get_current_target(self):\n",
    "        return (self.target_x, self.target_y)"
   ]
  },
  {
   "cell_type": "markdown",
   "metadata": {},
   "source": [
    "### FleetManager Class - Important\n",
    "\n",
    "#### Inputs:\n",
    "- dp1: droneport 1 (currently located at (5, 5)\n",
    "- dp2: droneport 2 (currently located at (-5, 5)\n",
    "\n",
    "object is initialized within Simulation\n",
    "\n",
    "#### Fleet:\n",
    "Currently, fleet consists of 10 drones initialized in line 6 below. 5 drones at dp1 have 100 max power and starting power. 5 drones at dp2 have 50 max power and starting power. "
   ]
  },
  {
   "cell_type": "code",
   "execution_count": 8,
   "metadata": {},
   "outputs": [],
   "source": [
    "class FleetManager:\n",
    "    def __init__(self, dp1, dp2):\n",
    "        self.dp1 = dp1\n",
    "        self.dp2 = dp2\n",
    "        name = dict(zip([0, 1, 2, 3, 4, 5, 6, 7, 8, 9], [\"A\", \"B\", \"C\", \"D\", \"E\", \"F\", \"G\", \"H\", \"I\", \"J\"]))\n",
    "        self.fleet = [Drone(*dp1.get_location(), None, 100, 100, 3, 3, name[i]) for i in range(5)] + \\\n",
    "                    [Drone(*dp2.get_location(), None, 50, 50, 3, 3, name[i]) for i in range(5, 10)]\n",
    "        self.available_fleet = [_ for _ in self.fleet]\n",
    "        self.locations_over_time = []\n",
    "        self.powers_over_time = []\n",
    "        self.orders_over_time = []\n",
    "        pass\n",
    "    \n",
    "    def get_locations(self):\n",
    "        return [d.get_location() for d in self.available_fleet]\n",
    "        pass\n",
    "    \n",
    "    def get_discharge_rates(self):\n",
    "        return [d.discharge_rate for d in self.available_fleet]\n",
    "    \n",
    "    def get_power(self):\n",
    "        return [d.get_power() for d in self.available_fleet]\n",
    "    \n",
    "    def update_dp_fleets(self):\n",
    "        #keeps track of which drones are at which droneport for charging purposes\n",
    "        dp1_fleet = []\n",
    "        dp2_fleet = []\n",
    "        for d in self.fleet:\n",
    "            if d.get_location() == self.dp1.get_location():\n",
    "                dp1_fleet.append(d)\n",
    "            elif d.get_location() == self.dp2.get_location():\n",
    "                dp2_fleet.append(d)\n",
    "        self.dp1.update_fleet(dp1_fleet)\n",
    "        self.dp2.update_fleet(dp2_fleet)\n",
    "        \n",
    "    def choose_drone(self, order):\n",
    "        #sets up and runs drone choice optimization\n",
    "        dist_2 = get_distance(order.retailer.get_location(), order.customer.get_location())\n",
    "        dist_1 = np.array(list(map(lambda x: get_distance(x, order.retailer.get_location()), self.get_locations())))\n",
    "        \n",
    "        discharge_rates = np.array(self.get_discharge_rates())\n",
    "        cost_to_travel = discharge_rates*(dist_1 + dist_2)\n",
    "        power_available = np.array(self.get_power())\n",
    "\n",
    "        drone_choice, _ = optimize_drone_choice(cost_to_travel, power_available)\n",
    "        return self.available_fleet[drone_choice]\n",
    "#         pass\n",
    "    \n",
    "    def choose_destination(self, drone):\n",
    "        #sets up and runs drone destination optimization\n",
    "#         return dest1, switching_drone, switching_drone_location \n",
    "        x1 = cp.Variable(nonneg=True)\n",
    "        x2 = cp.Variable(nonneg=True)\n",
    "        cost1 = drone.discharge_rate*get_distance(drone.get_location(), self.dp1.get_location())\n",
    "        cost2 = drone.discharge_rate*get_distance(drone.get_location(), self.dp2.get_location())\n",
    "            \n",
    "        drone_2 = None\n",
    "        drone_2_cost = 0\n",
    "        if len(self.dp1.fleet) == self.dp1.capacity:\n",
    "            switching_costs = np.array(self.dp1.get_discharge_rates()) * get_distance(self.dp1.get_location(), self.dp2.get_location())\n",
    "            fleet_powers = np.array(self.dp1.get_power())\n",
    "            drone_2, drone_2_cost = optimize_drone_choice(switching_costs, fleet_powers)\n",
    "        elif len(self.dp2.fleet) == self.dp2.capacity:\n",
    "            switching_costs = np.array(self.dp2.get_discharge_rates()) * get_distance(self.dp1.get_location(), self.dp2.get_location())\n",
    "            fleet_powers = np.array(self.dp2.get_power())\n",
    "            drone_2, drone_2_cost = optimize_drone_choice(switching_costs, fleet_powers)\n",
    "            \n",
    "        formulation = (cost1 + (len(self.dp1.fleet) == self.dp1.capacity)*drone_2_cost)*x1 + \\\n",
    "        (cost2 + (len(self.dp2.fleet) == self.dp2.capacity)*drone_2_cost)*x2 - \\\n",
    "        1000*np.sign(drone.get_power()-cost1)*x1 - 1000*np.sign(drone.get_power() - cost2)*x2\n",
    "\n",
    "        obj = cp.Minimize(formulation)\n",
    "        constr = [x1+x2 == 1]\n",
    "#         constr.append(cost1*x1 + cost*x2 <= drone.get_power())\n",
    "        prob = cp.Problem(obj, constr)\n",
    "        prob.solve()\n",
    "        argmax = np.argmax(np.array([x1.value, x2.value]))\n",
    "        destination = {0: self.dp1.get_location(), 1: self.dp2.get_location()}[argmax]\n",
    "        \n",
    "        if argmax == 0:\n",
    "            dp = self.dp1\n",
    "        else:\n",
    "            dp = self.dp2\n",
    "        destination = dp.get_location()\n",
    "        if len(dp.fleet) == dp.capacity:\n",
    "            switching_drone = dp.fleet[drone_2]\n",
    "            switching_drone_location = {0: self.dp1.get_location(), 1: self.dp2.get_location()}[np.argmin(np.array([x1.value, x2.value]))]\n",
    "        else:\n",
    "            switching_drone = None\n",
    "            switching_drone_location = None\n",
    "        return destination, switching_drone, switching_drone_location\n",
    "         \n",
    "#         pass\n",
    "    \n",
    "    def assign_drone(self, drone, order):\n",
    "        #attaches an order object to a drone\n",
    "        drone.assign_order(order)\n",
    "        pass\n",
    "    \n",
    "    def receive_order(self, order):\n",
    "        #called when there's a new order\n",
    "        drone = self.choose_drone(order)\n",
    "        self.assign_drone(drone, order)\n",
    "        \n",
    "    def take_step(self):\n",
    "        #takes single step\n",
    "        self.update_dp_fleets()\n",
    "        self.available_fleet = []\n",
    "        locations = []\n",
    "        powers = []\n",
    "        for d in self.fleet:\n",
    "            locations.append(d.get_location())\n",
    "            powers.append(d.get_power())\n",
    "            d.take_step()\n",
    "            if d.status != \"Engaged\":\n",
    "                self.available_fleet.append(d)\n",
    "                continue\n",
    "#             d.take_step()\n",
    "            drone_loc = d.get_location()\n",
    "            customer_loc = d.order.customer.get_location()\n",
    "#             print(drone_loc == customer_loc)\n",
    "            if drone_loc == customer_loc:\n",
    "                a,b,c = self.choose_destination(d)\n",
    "                print(a,b,c)\n",
    "                d.update_waypoint_list(a)\n",
    "                if b != None:\n",
    "#                     print(a, b, c)\n",
    "                    b.switch_locations(c)\n",
    "            elif (drone_loc == self.dp1.get_location()) or (drone_loc == self.dp2.get_location()):\n",
    "                d.set_status(\"Disengaged\")\n",
    "        self.locations_over_time.append(locations)\n",
    "        self.powers_over_time.append(powers)\n",
    "        return        "
   ]
  },
  {
   "cell_type": "markdown",
   "metadata": {},
   "source": [
    "### Simulation Class - Most Important\n",
    "Everything else is wrapped within this more or less. \n",
    "\n",
    "1. Simulation initializes FleetManager\n",
    "2. FleetManager initializes fleet (list of drones)\n",
    "3. As you step through simulation steps in Simulation.run(), orders get placed at discrete time intervals (currently 15)\n",
    "4. Given new order, FleetManager decided on drone choice and sends it out\n",
    "5. Simulation.run() calls FleetManager.take_step() which calls Drone.take_step() for all drones.\n",
    " - for drones in transit, this causes them to take a step\n",
    "6. FleetManager.take_step() updates which drones are at which DronePort\n",
    "6. Simulation.run() calls dp1.charge_fleet() and dp2.charge_fleet() which causes the drones at each droneport to get charged.\n",
    "\n",
    "\n",
    "#### Inputs:\n",
    "Currently none, easy modification to pass in a list of customers, retailers and droneports, but wouldn't focus on experimenting with different configurations of customers and retailers, just have one set defined ahead of time and hardcode it in the __init__\n",
    "\n",
    "Simulation.run() currently takes in a list of orders \n",
    "- have this in chronological order e.g [Order(customer, retailer, 0), Order(customer, retailer, 15), Order(customer, retailer, 30)]\n",
    "- I've commented out in line 28 use of a function which randomly generates an order\n",
    "\n",
    "You can also define how many simulation steps, N to run when calling Simulation.run()\n"
   ]
  },
  {
   "cell_type": "code",
   "execution_count": 9,
   "metadata": {},
   "outputs": [],
   "source": [
    "class Simulation:\n",
    "    def __init__(self):\n",
    "        self.customers = [Customer(4, 7.5, \"A\"), Customer(3, 7.5, \"B\"), Customer(-3, 7.5, \"C\")]\n",
    "        self.retailers = [Retailer(4, 1.5, \"A\"), Retailer(1, 1.5, \"B\"), Retailer(-3, 1.5, \"C\")]\n",
    "        self.dp1, self.dp2 = DronePort(5, 5), DronePort(-5, 5)\n",
    "        #create fleetmanager (which creates drones)\n",
    "        self.fm = FleetManager(self.dp1, self.dp2)\n",
    "        pass\n",
    "    \n",
    "    def __repr__(self):\n",
    "        return repr(\"Simulation Object\")\n",
    "    \n",
    "    def make_order(self, time):\n",
    "        customer = np.random.choice(self.customers)\n",
    "        retailer = np.random.choice(self.retailers)\n",
    "        \n",
    "        order = Order(customer, retailer, time)\n",
    "        return order\n",
    "    \n",
    "    def run(self, order_list, N=50):\n",
    "        offsets = []\n",
    "        power = []\n",
    "        #create droneports\n",
    "        dp1, dp2 = self.dp1, self.dp2\n",
    "        #simulation\n",
    "        fm = self.fm\n",
    "        #for n iterations\n",
    "#         order = self.make_order(0)\n",
    "#         order = order_list.pop(0)\n",
    "#         fm.orders_over_time.append(order)\n",
    "#         fm.receive_order(order)\n",
    "\n",
    "        for n in range(N):\n",
    "            if order_list:\n",
    "                if order_list[0].time == n:\n",
    "                    order = order_list.pop(0)\n",
    "                    fm.orders_over_time.append(order)\n",
    "                    fm.receive_order(order)\n",
    "            fm.take_step()\n",
    "            dp1.charge_fleet()\n",
    "            dp2.charge_fleet()\n",
    "#             print(d.get_order())\n",
    "        return np.array(fm.locations_over_time), np.array(fm.powers_over_time), fm.orders_over_time\n",
    "            "
   ]
  },
  {
   "cell_type": "markdown",
   "metadata": {},
   "source": [
    "### Running Simulation"
   ]
  },
  {
   "cell_type": "markdown",
   "metadata": {},
   "source": [
    "#### Initialize Simulation object"
   ]
  },
  {
   "cell_type": "code",
   "execution_count": 10,
   "metadata": {},
   "outputs": [],
   "source": [
    "np.random.seed(1)\n",
    "sim = Simulation()"
   ]
  },
  {
   "cell_type": "markdown",
   "metadata": {},
   "source": [
    "#### Prepare inputs"
   ]
  },
  {
   "cell_type": "code",
   "execution_count": 11,
   "metadata": {},
   "outputs": [],
   "source": [
    "#List of customers and retailers\n",
    "#Ensure this is the same as those in Simulation (or pass them in as arguments)\n",
    "customers = [Customer(4, 7.5, \"A\"), Customer(3, 7.5, \"B\"), Customer(-3, 7.5, \"C\")]\n",
    "retailers = [Retailer(4, 1.5, \"A\"), Retailer(1, 1.5, \"B\"), Retailer(-3, 1.5, \"C\")]\n",
    "\n",
    "#Creating some orders\n",
    "orders = []\n",
    "orders.append(Order(customers[1], retailers[1], 0))\n",
    "orders.append(Order(customers[1], retailers[2], 15))\n",
    "\n"
   ]
  },
  {
   "cell_type": "markdown",
   "metadata": {},
   "source": [
    "#### Call Simulation.run()\n",
    "Defaults to 50 timesteps unless passed in as argument"
   ]
  },
  {
   "cell_type": "code",
   "execution_count": 12,
   "metadata": {},
   "outputs": [
    {
     "name": "stdout",
     "output_type": "stream",
     "text": [
      "(5, 5) None None\n",
      "(5, 5) None None\n",
      "(5, 5) 'Drone A' (-5, 5)\n",
      "(5, 5) 'Drone A' (-5, 5)\n"
     ]
    }
   ],
   "source": [
    "locations, powers, orders = sim.run(orders)"
   ]
  },
  {
   "cell_type": "markdown",
   "metadata": {},
   "source": [
    "#### Outputs\n",
    "\n",
    "locations $\\in \\mathbf{R}^{N\\times n_\\text{drones}\\times2}$\n",
    "- locations of Drone 0 over time: locations[:, 0, :]\n",
    "\n",
    "power $\\in \\mathbf{R}^{N\\times n_\\text{drones}}$\n",
    "- power of Drone 1 over time: powers[:, 1]\n",
    "\n",
    "orders \n",
    "- probably just the same order list you passed in initially"
   ]
  },
  {
   "cell_type": "markdown",
   "metadata": {},
   "source": [
    "### Plotting\n",
    "- Red dots are Retailers\n",
    "- Blue dots are Customers\n",
    "- Black dots are DronePorts (locations are hardcoded in line 25)"
   ]
  },
  {
   "cell_type": "code",
   "execution_count": 13,
   "metadata": {},
   "outputs": [
    {
     "data": {
      "text/plain": [
       "Text(0.5, 1.0, 'Basic Layout')"
      ]
     },
     "execution_count": 13,
     "metadata": {},
     "output_type": "execute_result"
    },
    {
     "data": {
      "image/png": "[encoded data removed]",
      "text/plain": [
       "<Figure size 540x540 with 1 Axes>"
      ]
     },
     "metadata": {
      "needs_background": "light"
     },
     "output_type": "display_data"
    }
   ],
   "source": [
    "#creates lists of tuples of customer locations. [(4, 7.5), (3, 7.5), (-3, 7.5)]\n",
    "customers = list(map(lambda x: x.get_location(), sim.customers))\n",
    "\n",
    "#creates lists of tuples of retailer locations. [(4, 1.5), (1, 1.5), (-3, 1.5)]\n",
    "retailers = list(map(lambda x: x.get_location(), sim.retailers))\n",
    "\n",
    "fig, ax = plt.subplots()\n",
    "fig.set_figheight(7.5)\n",
    "fig.set_figwidth(7.5)\n",
    "ax.set_xlim([-6, 6])\n",
    "ax.set_ylim([0, 10])\n",
    "scat = ax.scatter(*map(list,zip(*retailers)), color='r') #unpacks and plots list of tuples\n",
    "scat = ax.scatter(*map(list,zip(*customers)), color='b')#unpacks and plots list of tuples\n",
    "scat = ax.scatter([-5, 5], [5, 5], color='k') #unpacks and plots list of tuples\n",
    "plt.title(\"Basic Layout\")"
   ]
  },
  {
   "cell_type": "markdown",
   "metadata": {},
   "source": [
    "#### Example\n",
    "Insufficient power and switching drone scenario"
   ]
  },
  {
   "cell_type": "code",
   "execution_count": 14,
   "metadata": {},
   "outputs": [
    {
     "name": "stdout",
     "output_type": "stream",
     "text": [
      "(5, 5) None None\n",
      "(5, 5) None None\n",
      "(5, 5) 'Drone A' (-5, 5)\n",
      "(5, 5) 'Drone A' (-5, 5)\n"
     ]
    }
   ],
   "source": [
    "np.random.seed(1)\n",
    "sim = Simulation()\n",
    "#List of customers and retailers\n",
    "#Ensure this is the same as those in Simulation (or pass them in as arguments)\n",
    "customers = [Customer(4, 7.5, \"A\"), Customer(3, 7.5, \"B\"), Customer(-3, 7.5, \"C\")]\n",
    "retailers = [Retailer(4, 1.5, \"A\"), Retailer(1, 1.5, \"B\"), Retailer(-3, 1.5, \"C\")]\n",
    "\n",
    "#Creating some orders\n",
    "orders = []\n",
    "orders.append(Order(customers[1], retailers[1], 0))\n",
    "orders.append(Order(customers[1], retailers[2], 15))\n",
    "\n",
    "locations, powers, orders = sim.run(orders)\n",
    "locs=locations"
   ]
  },
  {
   "cell_type": "code",
   "execution_count": 15,
   "metadata": {},
   "outputs": [
    {
     "data": {
      "text/plain": [
       "Text(0.5, 1.0, 'Power levels for Drone A and F')"
      ]
     },
     "execution_count": 15,
     "metadata": {},
     "output_type": "execute_result"
    },
    {
     "data": {
      "image/png": "[encoded data removed]",
      "text/plain": [
       "<Figure size 540x360 with 2 Axes>"
      ]
     },
     "metadata": {
      "needs_background": "light"
     },
     "output_type": "display_data"
    }
   ],
   "source": [
    "\n",
    "fig, ax = plt.subplots(2,1)\n",
    "fig.set_figheight(5)\n",
    "fig.set_figwidth(7.5)\n",
    "\n",
    "for i in [0,5]:\n",
    "    ax[i%4].plot(powers[:, i])\n",
    "ax[0].set_title(\"Power levels for Drone A and F\")\n"
   ]
  },
  {
   "cell_type": "markdown",
   "metadata": {},
   "source": [
    "- Top plot is Drone A\n",
    "\n",
    "- Bottom plot is Drone F (coming from left droneport, droneport 2)\n",
    "\n",
    "- Drone A starts mission at timestep 0-1, goes to retailer, then customer and then returns to droneport 1 where it begins charging. \n",
    "\n",
    "- At timestep 15, a mission comes in which Drone F begins. It goes to retailer and then customer but has insufficient charge to return to droneport 2. It then begins to go to droneport 1 which is at full capacity at timestep 30. Simultaneously, Drone A is dispatched from droneport 1 to switch locations to droneport 2 to make room for Drone F. We see it has enough charge to make this trip. At timestep 40, it reaches droneport 2 and begins charging. "
   ]
  },
  {
   "cell_type": "code",
   "execution_count": 16,
   "metadata": {},
   "outputs": [
    {
     "data": {
      "text/plain": [
       "<Figure size 540x540 with 0 Axes>"
      ]
     },
     "metadata": {},
     "output_type": "display_data"
    },
    {
     "data": {
      "image/png": "[encoded data removed]",
      "text/plain": [
       "<Figure size 540x540 with 1 Axes>"
      ]
     },
     "metadata": {
      "needs_background": "light"
     },
     "output_type": "display_data"
    }
   ],
   "source": [
    "#creates lists of tuples of customer locations. [(4, 7.5), (3, 7.5), (-3, 7.5)]\n",
    "customers = list(map(lambda x: x.get_location(), sim.customers))\n",
    "\n",
    "#creates lists of tuples of retailer locations. [(4, 1.5), (1, 1.5), (-3, 1.5)]\n",
    "retailers = list(map(lambda x: x.get_location(), sim.retailers))\n",
    "\n",
    "n = 50\n",
    "n1 = 15\n",
    "n2=40\n",
    "alphas = np.linspace(0.01, 1.0, 50)\n",
    "rgba_colors = np.zeros((50,4))\n",
    "# for red the first column needs to be one\n",
    "rgba_colors[:,1] = 1.0\n",
    "# the fourth column needs to be your alphas\n",
    "rgba_colors[:, 3] = alphas\n",
    "\n",
    "plt.figure(figsize=[7.5,7.5])\n",
    "fig, ax = plt.subplots()\n",
    "fig.set_figheight(7.5)\n",
    "fig.set_figwidth(7.5)\n",
    "ax.set_xlim([-6, 6])\n",
    "ax.set_ylim([0, 10])\n",
    "scat = ax.scatter(*map(list,zip(*retailers)), color='r') #unpacks and plots list of tuples\n",
    "scat = ax.scatter(*map(list,zip(*customers)), color='b')#unpacks and plots list of tuples\n",
    "scat = ax.scatter([-5, 5], [5, 5], color='k') #unpacks and plots list of tuples\n",
    "\n",
    "# ax.scatter(locs[:n, 0, 0], locs[:n, 0, 1], color=rgba_colors[:n, :])\n",
    "rgba_colors[:,1] = 0.5\n",
    "# ax.scatter(locs[n1:n2, 5, 0], locs[n1:n2, 5, 1], color=rgba_colors[:n2-n1, :])\n",
    "\n",
    "for i in range(10):\n",
    "    if (np.nonzero(np.diff(locs[:, i, 0]))[0].tolist()):\n",
    "        min_ix = np.min(np.nonzero(np.diff(locs[:, i, 0])))\n",
    "        max_ix = np.max(np.nonzero(np.diff(locs[:, i, 0])))\n",
    "        ax.scatter(locs[min_ix:max_ix, i, 0], locs[min_ix:max_ix, i, 1], color=rgba_colors[min_ix:max_ix, :])\n",
    "\n",
    "\n",
    "# for data in offsets:\n",
    "#     ax.scatter(*data, alpha=0.1, color='g')"
   ]
  },
  {
   "cell_type": "markdown",
   "metadata": {},
   "source": [
    "#### Random stuff"
   ]
  },
  {
   "cell_type": "code",
   "execution_count": 17,
   "metadata": {},
   "outputs": [],
   "source": [
    "dp1 = DronePort(50, 50)\n",
    "dp2 = DronePort(-50, 50)\n",
    "fm = FleetManager(dp1, dp2)\n",
    "# Drone()"
   ]
  },
  {
   "cell_type": "code",
   "execution_count": 18,
   "metadata": {},
   "outputs": [],
   "source": [
    "fm.fleet\n",
    "fm.update_dp_fleets()"
   ]
  },
  {
   "cell_type": "code",
   "execution_count": 19,
   "metadata": {},
   "outputs": [
    {
     "data": {
      "text/plain": [
       "['Drone A', 'Drone B', 'Drone C', 'Drone D', 'Drone E']"
      ]
     },
     "execution_count": 19,
     "metadata": {},
     "output_type": "execute_result"
    }
   ],
   "source": [
    "dp1.fleet"
   ]
  },
  {
   "cell_type": "code",
   "execution_count": 20,
   "metadata": {},
   "outputs": [],
   "source": [
    "dp1\n",
    "drone1 = Drone(*dp1.get_location(), 100, 100, 100, 0.5, 0.5, \"A\")\n",
    "dp1.add_to_fleet(drone1)"
   ]
  },
  {
   "cell_type": "code",
   "execution_count": 21,
   "metadata": {},
   "outputs": [
    {
     "data": {
      "text/plain": [
       "['Drone A', 'Drone B', 'Drone C', 'Drone D', 'Drone E', 'Drone A']"
      ]
     },
     "execution_count": 21,
     "metadata": {},
     "output_type": "execute_result"
    }
   ],
   "source": [
    "dp1.fleet"
   ]
  },
  {
   "cell_type": "code",
   "execution_count": 22,
   "metadata": {},
   "outputs": [
    {
     "data": {
      "text/plain": [
       "1.0"
      ]
     },
     "execution_count": 22,
     "metadata": {},
     "output_type": "execute_result"
    }
   ],
   "source": [
    "loc = (2, 3)\n",
    "loc2 = (2, 4)\n",
    "np.array(loc) - np.array(loc2)\n",
    "np.linalg.norm(np.array(loc)-np.array(loc2))"
   ]
  },
  {
   "cell_type": "code",
   "execution_count": 23,
   "metadata": {},
   "outputs": [
    {
     "data": {
      "image/png": "[encoded data removed]",
      "text/plain": [
       "<Figure size 432x288 with 1 Axes>"
      ]
     },
     "metadata": {
      "needs_background": "light"
     },
     "output_type": "display_data"
    }
   ],
   "source": [
    "fig, ax = plt.subplots()\n",
    "ax.set_xlim([-6, 6])\n",
    "ax.set_ylim([0, 10])\n",
    "scat = ax.scatter(*map(list,zip(*retailers)), color='r')\n",
    "scat = ax.scatter(*map(list,zip(*customers)), color='b')\n",
    "scat = ax.scatter([-5, 5], [5, 5], color='k')\n",
    "\n",
    "# for data in offsets:\n",
    "#     ax.scatter(*data, alpha=0.1, color='g')\n",
    "def init():\n",
    "    return scat,\n",
    "\n",
    "def animate(offsets=locs[:, 0, :]):\n",
    "    x, y = new_points\n",
    "    scat.set_offsets(np.array(offsets))\n",
    "    return scat\n",
    "\n",
    "anim = animation.FuncAnimation(fig, animate, init_func=init,\n",
    "                               frames=100, interval=50, blit=True)"
   ]
  }
 ],
 "metadata": {
  "kernelspec": {
   "display_name": "Python 3",
   "language": "python",
   "name": "python3"
  },
  "language_info": {
   "codemirror_mode": {
    "name": "ipython",
    "version": 3
   },
   "file_extension": ".py",
   "mimetype": "text/x-python",
   "name": "python",
   "nbconvert_exporter": "python",
   "pygments_lexer": "ipython3",
   "version": "3.7.3"
  }
 },
 "nbformat": 4,
 "nbformat_minor": 2
}
